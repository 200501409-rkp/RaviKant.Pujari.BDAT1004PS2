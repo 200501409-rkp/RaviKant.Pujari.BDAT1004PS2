{
 "cells": [
  {
   "cell_type": "markdown",
   "id": "b9039b3a",
   "metadata": {},
   "source": [
    "# BDAT1004 - Data Programming\n",
    "---\n",
    "## Problem Set 2 - Python\n",
    "---"
   ]
  },
  {
   "cell_type": "markdown",
   "id": "071029aa",
   "metadata": {},
   "source": [
    "<h3> Q1. Consider the following Python module:</h3>\n",
    "\n",
    "a = 0 <br>\n",
    "\n",
    "def b():\n",
    "<pre>global a\n",
    "a = c(a)</pre>\n",
    "def c(a):\n",
    "<pre>return a + 2</pre>\n",
    "\n",
    "<h3>After importing the module into the interpreter, you execute:</h3>\n",
    "\n",
    "b()<br>\n",
    "b()<br>\n",
    "b()<br>\n",
    "a<br>\n",
    "?\n",
    "\n",
    "<h3>What value is displayed when the last expression (a) is evaluated? Explain your\n",
    "answer by indicating what happens in every executed statement.</h3>\n",
    "\n",
    "\n",
    "> Here I've created a seperate .py file named **Test** which I will import in my solution."
   ]
  },
  {
   "cell_type": "code",
   "execution_count": 2,
   "id": "16409157",
   "metadata": {},
   "outputs": [
    {
     "data": {
      "text/plain": [
       "6"
      ]
     },
     "execution_count": 2,
     "metadata": {},
     "output_type": "execute_result"
    }
   ],
   "source": [
    "from Test import *\n",
    "\n",
    "# Initially the value of global variable 'a' is set to 0\n",
    "\n",
    "b() # increases the value of 'a' by 2 and value in 'a' is 2\n",
    "b() # increases the value of 'a' by 2 and value in 'a' is 4\n",
    "b() # increases the value of 'a' by 2 and value in 'a' is 6\n",
    "\n",
    "a # From last call of function b(), the value of 'a' was set to 6"
   ]
  }
 ],
 "metadata": {
  "kernelspec": {
   "display_name": "Python 3 (ipykernel)",
   "language": "python",
   "name": "python3"
  },
  "language_info": {
   "codemirror_mode": {
    "name": "ipython",
    "version": 3
   },
   "file_extension": ".py",
   "mimetype": "text/x-python",
   "name": "python",
   "nbconvert_exporter": "python",
   "pygments_lexer": "ipython3",
   "version": "3.9.7"
  }
 },
 "nbformat": 4,
 "nbformat_minor": 5
}
