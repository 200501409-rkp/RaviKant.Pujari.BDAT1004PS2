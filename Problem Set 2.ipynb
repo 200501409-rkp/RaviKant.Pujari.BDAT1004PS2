{
 "cells": [
  {
   "cell_type": "markdown",
   "id": "b9039b3a",
   "metadata": {},
   "source": [
    "# BDAT1004 - Data Programming\n",
    "---\n",
    "## Problem Set 2 - Python\n",
    "---"
   ]
  },
  {
   "cell_type": "markdown",
   "id": "071029aa",
   "metadata": {},
   "source": [
    "<h3> Q1. Consider the following Python module:</h3>\n",
    "\n",
    "a = 0 <br>\n",
    "\n",
    "def b():\n",
    "<pre>global a\n",
    "a = c(a)</pre>\n",
    "def c(a):\n",
    "<pre>return a + 2</pre>\n",
    "\n",
    "<h3>After importing the module into the interpreter, you execute:</h3>\n",
    "\n",
    "b()<br>\n",
    "b()<br>\n",
    "b()<br>\n",
    "a<br>\n",
    "?\n",
    "\n",
    "<h3>What value is displayed when the last expression (a) is evaluated? Explain your\n",
    "answer by indicating what happens in every executed statement.</h3>\n",
    "\n",
    "\n",
    "> Here I've created a seperate .py file named **Test** which I will import in my solution."
   ]
  },
  {
   "cell_type": "code",
   "execution_count": 2,
   "id": "16409157",
   "metadata": {},
   "outputs": [
    {
     "data": {
      "text/plain": [
       "6"
      ]
     },
     "execution_count": 2,
     "metadata": {},
     "output_type": "execute_result"
    }
   ],
   "source": [
    "from Test import *\n",
    "\n",
    "# Initially the value of global variable 'a' is set to 0\n",
    "\n",
    "b() # increases the value of 'a' by 2 and value in 'a' is 2\n",
    "b() # increases the value of 'a' by 2 and value in 'a' is 4\n",
    "b() # increases the value of 'a' by 2 and value in 'a' is 6\n",
    "\n",
    "a # From last call of function b(), the value of 'a' was set to 6"
   ]
  },
  {
   "cell_type": "markdown",
   "id": "f91d2201",
   "metadata": {},
   "source": [
    "<h3> Q2. Function fileLength(), given to you, takes the name of a file as input and returns\n",
    "the length of the file:</h3>\n",
    "\n",
    "fileLength('midterm.py')<br>\n",
    "284<br>\n",
    "fileLength('idterm.py')<br>\n",
    "Traceback (most recent call last):<br>\n",
    "File \"<pyshell#34>\", line 1, in <module><br>\n",
    "fileLength('idterm.py')<br>\n",
    "File \"/Users/me/midterm.py\", line 3, in fileLength<br>\n",
    "infile = open(filename)<br>\n",
    "FileNotFoundError: [Errno 2] No such file or directory:<br>\n",
    "'idterm.py'<br>\n",
    "\n",
    "<h3>As shown above, if the file cannot be found by the interpreter or if it cannot be read\n",
    "as a text file, an exception will be raised. Modify function fileLength() so that a\n",
    "friendly message is printed instead:</h3>\n",
    "    \n",
    "fileLength('midterm.py')<br>\n",
    "358<br>\n",
    "fileLength('idterm.py')<br>\n",
    "File idterm.py not found."
   ]
  },
  {
   "cell_type": "code",
   "execution_count": 3,
   "id": "4310681e",
   "metadata": {},
   "outputs": [
    {
     "name": "stdout",
     "output_type": "stream",
     "text": [
      "60\n",
      "File idterm.py not found.\n"
     ]
    }
   ],
   "source": [
    "def fileLength(file_name):\n",
    "    try:\n",
    "        file = open(file_name) # file opening\n",
    "        contents = file.read()\n",
    "        file.close()\n",
    "        print(len(contents)) # using len(), we can get the length of file content\n",
    "    except FileNotFoundError:\n",
    "        print('File ' + file_name + ' not found.') # Modified the error message of FileNotFoundError exception.\n",
    "\n",
    "fileLength('midterm.py')\n",
    "fileLength('idterm.py')"
   ]
  },
  {
   "cell_type": "markdown",
   "id": "9759e3d9",
   "metadata": {},
   "source": [
    "<h3> Q3. Write a class named Marsupial that can be used as shown below:</h3>\n",
    "\n",
    "m = Marsupial()<br>\n",
    "m.put_in_pouch('doll')<br>\n",
    "m.put_in_pouch('firetruck')<br>\n",
    "m.put_in_pouch('kitten')<br>\n",
    "m.pouch_contents()<br>\n",
    "['doll', 'firetruck', 'kitten']<br>"
   ]
  },
  {
   "cell_type": "code",
   "execution_count": 4,
   "id": "ab367105",
   "metadata": {},
   "outputs": [
    {
     "name": "stdout",
     "output_type": "stream",
     "text": [
      "['doll', 'firetruck', 'kitten']\n"
     ]
    }
   ],
   "source": [
    "class Marsupial:\n",
    "    # constructor: create an empty list called 'pouch'\n",
    "    def __init__(self):\n",
    "        self.pouch = []\n",
    "    \n",
    "    # To add content in 'pouch'\n",
    "    def put_in_pouch(self, content):\n",
    "        self.pouch.append(content)\n",
    "    \n",
    "    # To display the contents of pouch\n",
    "    def pouch_contents(self):\n",
    "        print(self.pouch)\n",
    "        \n",
    "m = Marsupial()\n",
    "m.put_in_pouch('doll')\n",
    "m.put_in_pouch('firetruck')\n",
    "m.put_in_pouch('kitten')\n",
    "m.pouch_contents()"
   ]
  },
  {
   "cell_type": "markdown",
   "id": "196f5fc7",
   "metadata": {},
   "source": [
    "<h3>Now write a class named Kangaroo as a subclass of Marsupial that inherits all the\n",
    "attributes of Marsupial and also:\n",
    "<br><br>\n",
    "a. extends the Marsupial __init__ constructor to take, as input, the\n",
    "coordinates x and y of the Kangaroo object,<br><br>\n",
    "b. supports method jump that takes number values dx and dy as input and\n",
    "moves the kangaroo by dx units along the x-axis and by dy units along the y-\n",
    "axis, and<br><br>\n",
    "c. overloads the __str__ operator so it behaves as shown below.\n",
    "</h3>"
   ]
  },
  {
   "cell_type": "code",
   "execution_count": 5,
   "id": "80e35eff",
   "metadata": {},
   "outputs": [
    {
     "name": "stdout",
     "output_type": "stream",
     "text": [
      "I am a Kangaroo located at coordinates (0, 0)\n"
     ]
    }
   ],
   "source": [
    "class Kangaroo(Marsupial):\n",
    "    def __init__(self, x, y):\n",
    "        super().__init__()\n",
    "        self.dx = x\n",
    "        self.dy = y\n",
    "    \n",
    "    def jump(self, dx, dy):\n",
    "        self.dx += dx\n",
    "        self.dy += dy\n",
    "    \n",
    "    def __str__(self):\n",
    "        return f\"I am a Kangaroo located at coordinates ({self.dx}, {self.dy})\"\n",
    "\n",
    "k = Kangaroo(0,0)\n",
    "print(k)"
   ]
  },
  {
   "cell_type": "code",
   "execution_count": 6,
   "id": "e7ae0db9",
   "metadata": {},
   "outputs": [
    {
     "name": "stdout",
     "output_type": "stream",
     "text": [
      "['doll', 'firetruck', 'kitten']\n"
     ]
    }
   ],
   "source": [
    "k.put_in_pouch('doll')\n",
    "k.put_in_pouch('firetruck')\n",
    "k.put_in_pouch('kitten')\n",
    "k.pouch_contents()"
   ]
  },
  {
   "cell_type": "code",
   "execution_count": 7,
   "id": "8c8a2180",
   "metadata": {},
   "outputs": [
    {
     "name": "stdout",
     "output_type": "stream",
     "text": [
      "I am a Kangaroo located at coordinates (3, 0)\n"
     ]
    }
   ],
   "source": [
    "k.jump(1,0)\n",
    "k.jump(1,0)\n",
    "k.jump(1,0)\n",
    "print(k)"
   ]
  },
  {
   "cell_type": "markdown",
   "id": "620e9576",
   "metadata": {},
   "source": [
    "<h3> Q4. Write function collatz() that takes a positive integer x as input and prints the\n",
    "Collatz sequence starting at x. A Collatz sequence is obtained by repeatedly applying\n",
    "this rule to the previous number x in the sequence:</h3>\n",
    "\n",
    "x = \n",
    "---------------------------\n",
    "𝑥/2 𝑖𝑓 𝑥 𝑖𝑠 𝑒𝑣𝑒𝑛<br><br>\n",
    "3𝑥 + 1 𝑖𝑓 𝑥 𝑖𝑠 𝑜𝑑𝑑<br><br>\n",
    "\n",
    "<h3>Your function should stop when the sequence gets to number 1. Your\n",
    "implementation must be recursive, without any loops.</h3>\n",
    "<br><br>\n",
    "collatz(1)<br>\n",
    "1\n",
    "<br><br>\n",
    "collatz(10)<br>\n",
    "10<br>\n",
    "5<br>\n",
    "16<br>\n",
    "8<br>\n",
    "4<br>\n",
    "2<br>\n",
    "1"
   ]
  },
  {
   "cell_type": "code",
   "execution_count": 8,
   "id": "bdf9d687",
   "metadata": {},
   "outputs": [],
   "source": [
    "def collatz(x):\n",
    "    print(x)\n",
    "    if x == 1: # if x is 1\n",
    "        return\n",
    "    elif x%2 == 0: # if x is even\n",
    "        x //= 2\n",
    "    else: # if x is odd\n",
    "        x = 3*x + 1\n",
    "    return collatz(x) # recursive function call"
   ]
  },
  {
   "cell_type": "code",
   "execution_count": 9,
   "id": "efe28887",
   "metadata": {},
   "outputs": [
    {
     "name": "stdout",
     "output_type": "stream",
     "text": [
      "1\n"
     ]
    }
   ],
   "source": [
    "collatz(1)"
   ]
  },
  {
   "cell_type": "code",
   "execution_count": 10,
   "id": "403045e7",
   "metadata": {},
   "outputs": [
    {
     "name": "stdout",
     "output_type": "stream",
     "text": [
      "10\n",
      "5\n",
      "16\n",
      "8\n",
      "4\n",
      "2\n",
      "1\n"
     ]
    }
   ],
   "source": [
    "collatz(10)"
   ]
  },
  {
   "cell_type": "markdown",
   "id": "ae25e8ac",
   "metadata": {},
   "source": [
    "<h3> Q5. Write a recursive method binary() that takes a non-negative\n",
    "integer n and prints the binary representation of integer n.</h3>\n",
    "<br>\n",
    "binary(0)<br>\n",
    "0<br>\n",
    "binary(1)<br>\n",
    "1<br>\n",
    "binary(3)<br>\n",
    "11<br>\n",
    "binary(9)<br>\n",
    "1001"
   ]
  },
  {
   "cell_type": "code",
   "execution_count": 11,
   "id": "4274f31f",
   "metadata": {},
   "outputs": [],
   "source": [
    "def binary(n):\n",
    "    if n < 0:\n",
    "        print('Please provide a non-negative integer value.')\n",
    "    elif n > 1:\n",
    "        binary(n//2) # recursive function call\n",
    "    print(n%2, end='')"
   ]
  },
  {
   "cell_type": "code",
   "execution_count": 12,
   "id": "8ae574d4",
   "metadata": {},
   "outputs": [
    {
     "name": "stdout",
     "output_type": "stream",
     "text": [
      "0"
     ]
    }
   ],
   "source": [
    "binary(0)"
   ]
  },
  {
   "cell_type": "code",
   "execution_count": 13,
   "id": "c9176fa9",
   "metadata": {},
   "outputs": [
    {
     "name": "stdout",
     "output_type": "stream",
     "text": [
      "1"
     ]
    }
   ],
   "source": [
    "binary(1)"
   ]
  },
  {
   "cell_type": "code",
   "execution_count": 14,
   "id": "9afcceef",
   "metadata": {},
   "outputs": [
    {
     "name": "stdout",
     "output_type": "stream",
     "text": [
      "11"
     ]
    }
   ],
   "source": [
    "binary(3)"
   ]
  },
  {
   "cell_type": "code",
   "execution_count": 15,
   "id": "76ddfe5d",
   "metadata": {},
   "outputs": [
    {
     "name": "stdout",
     "output_type": "stream",
     "text": [
      "1001"
     ]
    }
   ],
   "source": [
    "binary(9)"
   ]
  },
  {
   "cell_type": "markdown",
   "id": "634a8641",
   "metadata": {},
   "source": [
    "<h3> Q6. Implement a class named HeadingParser that can be used to parse an HTML document, and retrieve and print all the headings in the document. You should implement your class as a subclass of HTMLParser, defined in Standard Library module html.parser. When fed a string containing HTML code, your class should print the headings, one per line and in the order in which they appear in the document. Each heading should be indented as follows: an h1 heading should have indentation 0, and h2 heading should have indentation 1, etc. Test your implementation using w3c.html.</h3>\n",
    "\n",
    "infile = open('w3c.html')<br>\n",
    "content = infile.read()<br>\n",
    "infile.close()<br>\n",
    "hp = HeadingParser()<br>\n",
    "hp.feed(content)<br>\n",
    "W3C Mission<br>\n",
    "Principles<br>"
   ]
  },
  {
   "cell_type": "code",
   "execution_count": 16,
   "id": "ba76c098",
   "metadata": {},
   "outputs": [
    {
     "name": "stdout",
     "output_type": "stream",
     "text": [
      "W3C Mission\n",
      " Principles\n"
     ]
    }
   ],
   "source": [
    "from html.parser import HTMLParser\n",
    "\n",
    "class HeadingParser(HTMLParser):\n",
    "    def __init__(self):\n",
    "        HTMLParser.__init__(self)\n",
    "        self.head_tags = ['h1', 'h2', 'h3', 'h4', 'h5', 'h6']\n",
    "        self.isHeadTag = False\n",
    "        self.tagIndents = {}\n",
    "    \n",
    "    # handle start tags\n",
    "    def handle_starttag(self, tag, attrs):\n",
    "        if tag in self.head_tags:\n",
    "            self.isHeadTag = True\n",
    "            self.tagIndents['tag'] = tag\n",
    "            self.tagIndents['indent'] = self.head_tags.index(tag)\n",
    "    \n",
    "    # handle data\n",
    "    def handle_data(self, data):\n",
    "        if self.isHeadTag:\n",
    "            for i in range(0,self.tagIndents['indent']):\n",
    "                print('', end=' ')\n",
    "            print(data)\n",
    "            \n",
    "    # handle end tags       \n",
    "    def handle_endtag(self, tag):\n",
    "        if tag in self.head_tags:\n",
    "            self.isHeadTag = False\n",
    "\n",
    "\n",
    "infile = open('w3c.html')\n",
    "content = infile.read()\n",
    "infile.close()\n",
    "hp = HeadingParser()\n",
    "hp.feed(content)\n",
    "\n",
    "\"\"\"\n",
    "    To solve above problem I referred:\n",
    "    Link1: https://docs.python.org/3/library/html.parser.html\n",
    "    Link2: https://gist.github.com/RobinDavid/9196709\n",
    "\"\"\""
   ]
  },
  {
   "cell_type": "markdown",
   "id": "fd43a554",
   "metadata": {},
   "source": [
    "<h3> Q7. Implement recursive function webdir() that takes as input: a URL (as a string) and non-negative integers depth and indent. Your function should visit every web page reachable from the starting URL web page in depth clicks or less, and print each web page's URL. As shown below, indentation, specified by indent, should be used to indicate the depth of a URL.</h3>\n",
    "\n",
    "webdir('http://reed.cs.depaul.edu/lperkovic/csc242/test1.html'\n",
    ", 2, 0)\n",
    "<br>\n",
    "http://reed.cs.depaul.edu/lperkovic/csc242/test1.html<br>\n",
    "&nbsp;&nbsp;&nbsp;&nbsp;http://reed.cs.depaul.edu/lperkovic/csc242/test2.html<br>\n",
    "&nbsp;&nbsp;&nbsp;&nbsp;&nbsp;&nbsp;&nbsp;&nbsp;http://reed.cs.depaul.edu/lperkovic/csc242/test4.html<br>\n",
    "&nbsp;&nbsp;&nbsp;&nbsp;http://reed.cs.depaul.edu/lperkovic/csc242/test3.html<br>\n",
    "&nbsp;&nbsp;&nbsp;&nbsp;&nbsp;&nbsp;&nbsp;&nbsp;http://reed.cs.depaul.edu/lperkovic/csc242/test4.html"
   ]
  },
  {
   "cell_type": "code",
   "execution_count": 17,
   "id": "79a0b1c1",
   "metadata": {},
   "outputs": [],
   "source": [
    "from urllib.request import urlopen\n",
    "from urllib.parse import urljoin\n",
    "from html.parser import HTMLParser\n",
    "\n",
    "class Collector(HTMLParser):\n",
    "    \n",
    "    def __init__(self, url):\n",
    "        HTMLParser.__init__(self)\n",
    "        self.url = url\n",
    "        self.links = []\n",
    "\n",
    "    \n",
    "    def handle_starttag(self, tag, attrs):\n",
    "        if tag == 'a':\n",
    "            for attr in attrs:\n",
    "                if attr[0] == 'href':\n",
    "                    absolute = urljoin(self.url, attr[1])\n",
    "                    if absolute[:4] == 'http':\n",
    "                        self.links.append(absolute)\n",
    "                        \n",
    "    def getLinks(self):\n",
    "        'returns hyperlinks URLs in their absolute format'\n",
    "        return self.links\n",
    "    \n",
    "\n",
    "def webdir(URL, depth, indent):\n",
    "    for i in range(indent):\n",
    "        print('    ', end='') # printing indentation\n",
    "    print(URL)\n",
    "    \n",
    "    resource = urlopen(URL)\n",
    "    content = resource.read().decode()\n",
    "    collector = Collector(URL)\n",
    "    collector.feed(content)\n",
    "    URLs = collector.getLinks()\n",
    "    \n",
    "    for i in range(depth):\n",
    "        webdir(URLs[i], depth-1, indent+1)"
   ]
  },
  {
   "cell_type": "code",
   "execution_count": 18,
   "id": "1e9d5672",
   "metadata": {},
   "outputs": [
    {
     "name": "stdout",
     "output_type": "stream",
     "text": [
      "http://reed.cs.depaul.edu/lperkovic/test1.html\n",
      "    http://reed.cs.depaul.edu/lperkovic/test2.html\n",
      "        http://reed.cs.depaul.edu/lperkovic/test4.html\n",
      "    http://reed.cs.depaul.edu/lperkovic/test3.html\n",
      "        http://reed.cs.depaul.edu/lperkovic/test4.html\n"
     ]
    }
   ],
   "source": [
    "webdir('http://reed.cs.depaul.edu/lperkovic/test1.html', 2, 0)"
   ]
  }
 ],
 "metadata": {
  "kernelspec": {
   "display_name": "Python 3 (ipykernel)",
   "language": "python",
   "name": "python3"
  },
  "language_info": {
   "codemirror_mode": {
    "name": "ipython",
    "version": 3
   },
   "file_extension": ".py",
   "mimetype": "text/x-python",
   "name": "python",
   "nbconvert_exporter": "python",
   "pygments_lexer": "ipython3",
   "version": "3.9.7"
  }
 },
 "nbformat": 4,
 "nbformat_minor": 5
}
